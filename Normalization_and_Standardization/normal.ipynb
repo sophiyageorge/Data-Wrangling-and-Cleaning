{
 "cells": [
  {
   "cell_type": "code",
   "execution_count": 1,
   "metadata": {},
   "outputs": [],
   "source": [
    "# https://www.indeed.com/career-advice/career-development/normalization-formula\n",
    "# https://www.geeksforgeeks.org/how-to-normalize-an-array-in-numpy-in-python/ \n",
    "\n",
    "#  This normalization formula, also called scaling \n",
    "# to a range or feature scaling, is most commonly\n",
    "#  used on data sets when the upper and lower limits \n",
    "# are known and when the data \n",
    "# is relatively evenly distributed across that range."
   ]
  },
  {
   "cell_type": "code",
   "execution_count": 2,
   "metadata": {},
   "outputs": [],
   "source": [
    "import numpy as np"
   ]
  },
  {
   "cell_type": "code",
   "execution_count": 3,
   "metadata": {},
   "outputs": [
    {
     "name": "stdout",
     "output_type": "stream",
     "text": [
      "[0.0, 0.4, 0.8, 1.0, 0.6]\n"
     ]
    }
   ],
   "source": [
    "# xnormalized = (x - xminimum)/range of x\n",
    "# Range is the spread of data from the lowest to the highest value in the data set. (xmaximum - xminimum\n",
    "\n",
    "arr =[1,3,5,6,4]\n",
    "x_min = min(arr)\n",
    "normalized =[]\n",
    "range_arr = max(arr) - min(arr)\n",
    "for i in arr:\n",
    "    normalized.append( (i - x_min)/range_arr)\n",
    "print(normalized)"
   ]
  },
  {
   "cell_type": "code",
   "execution_count": 4,
   "metadata": {},
   "outputs": [
    {
     "data": {
      "text/plain": [
       "[10.0, 12.0, 16.0, 18.0, 14.0, 20.0]"
      ]
     },
     "execution_count": 4,
     "metadata": {},
     "output_type": "execute_result"
    }
   ],
   "source": [
    "# Normalization formula for custom ranges\n",
    "\n",
    "# xnormalized = a + ((x - xminimum)*(b-a))/range of x\n",
    "\n",
    "arr = [3,4,6,7,5,8]\n",
    "range_min_a = 10\n",
    "range_max_b = 20\n",
    "\n",
    "x_min = min(arr)\n",
    "x_max = max(arr)\n",
    "range_x = x_max - x_min\n",
    "normalized = []\n",
    "for i in arr:\n",
    "    normalized.append(range_min_a + ((i - x_min)*(range_max_b-range_min_a))/(range_x))\n",
    "normalized\n"
   ]
  },
  {
   "cell_type": "code",
   "execution_count": 5,
   "metadata": {},
   "outputs": [
    {
     "data": {
      "text/plain": [
       "'Z-score normalization is useful in machine learning\\n settings since it can tell you how far a data point \\nis from the average of the whole data set. It can be\\n most appropriate when there are just a few outliers,\\n since it provides a simple way to compare a data point\\n to the norm. You might calculate a z-score when comparing\\n data sets that are likely to be similar because of some genetic\\n or experimental reason, like a physical attribute \\nof an animal or results within a certain time frame.'"
      ]
     },
     "execution_count": 5,
     "metadata": {},
     "output_type": "execute_result"
    }
   ],
   "source": [
    "# z-score\n",
    "'''Z-score normalization is useful in machine learning\n",
    " settings since it can tell you how far a data point \n",
    "is from the average of the whole data set. It can be\n",
    " most appropriate when there are just a few outliers,\n",
    " since it provides a simple way to compare a data point\n",
    " to the norm. You might calculate a z-score when comparing\n",
    " data sets that are likely to be similar because of some genetic\n",
    " or experimental reason, like a physical attribute \n",
    "of an animal or results within a certain time frame.'''\n",
    "# To calculate a Z-score, you need at least one data point,\n",
    "#  the mean and standard deviation of the set. \n",
    "# You can calculate the Z-score using the formula below:\n",
    "# Z-score = (x - μ) / σ\n",
    "# Where:\n",
    "# x is the value of your data point\n",
    "# μ is the mean of the sample or data set\n",
    "# σ is the standard deviation\n"
   ]
  },
  {
   "cell_type": "code",
   "execution_count": 6,
   "metadata": {},
   "outputs": [],
   "source": [
    "import matplotlib\n",
    "import matplotlib.pyplot as plt\n",
    "\n",
    "global dataset\n",
    "# dataset =[1,99,789,5,876,541,95432,7,50583,35467]\n",
    "dataset = [46,69,32,60,52,41]\n",
    "n=len(dataset)\n",
    "mean =0\n",
    "variance =0\n",
    "j=0\n"
   ]
  },
  {
   "cell_type": "code",
   "execution_count": 7,
   "metadata": {},
   "outputs": [
    {
     "name": "stdout",
     "output_type": "stream",
     "text": [
      "50.0\n"
     ]
    }
   ],
   "source": [
    "# mean\n",
    "for i in dataset:\n",
    "    mean += i\n",
    "mean /=n\n",
    "print(mean)"
   ]
  },
  {
   "cell_type": "code",
   "execution_count": 8,
   "metadata": {},
   "outputs": [
    {
     "data": {
      "text/plain": [
       "147.66666666666666"
      ]
     },
     "execution_count": 8,
     "metadata": {},
     "output_type": "execute_result"
    }
   ],
   "source": [
    "# variance\n",
    "\n",
    "for i in dataset:\n",
    "    variance += (i-mean)**2\n",
    "variance /= n\n",
    "\n",
    "variance\n"
   ]
  },
  {
   "cell_type": "code",
   "execution_count": 9,
   "metadata": {},
   "outputs": [
    {
     "data": {
      "text/plain": [
       "12.151817422372122"
      ]
     },
     "execution_count": 9,
     "metadata": {},
     "output_type": "execute_result"
    }
   ],
   "source": [
    "# Standard deviation\n",
    "\n",
    "sd =variance**(1/2)\n",
    "sd"
   ]
  },
  {
   "cell_type": "code",
   "execution_count": null,
   "metadata": {},
   "outputs": [],
   "source": []
  },
  {
   "cell_type": "code",
   "execution_count": 10,
   "metadata": {},
   "outputs": [
    {
     "data": {
      "text/plain": [
       "[-0.3291688692290417,\n",
       " 1.5635521288379481,\n",
       " -1.4812599115306877,\n",
       " 0.8229221730726043,\n",
       " 0.16458443461452085,\n",
       " -0.7406299557653439]"
      ]
     },
     "execution_count": 10,
     "metadata": {},
     "output_type": "execute_result"
    }
   ],
   "source": [
    "# z score\n",
    "distribution = []\n",
    "\n",
    "for i in dataset:\n",
    "    distribution.append((i-mean)/sd)\n",
    "distribution"
   ]
  },
  {
   "cell_type": "code",
   "execution_count": 15,
   "metadata": {},
   "outputs": [],
   "source": [
    "import numpy as np\n",
    "import pandas as pd\n",
    "import matplotlib.pyplot as plt\n",
    "import seaborn as sns\n",
    "import scipy.stats as stats"
   ]
  },
  {
   "cell_type": "code",
   "execution_count": 32,
   "metadata": {},
   "outputs": [
    {
     "name": "stdout",
     "output_type": "stream",
     "text": [
      "[-0.3291688692290417, 1.5635521288379481, -1.4812599115306877, 0.8229221730726043, 0.16458443461452085, -0.7406299557653439]\n"
     ]
    },
    {
     "data": {
      "text/plain": [
       "[0.37101402585580656,\n",
       " 0.9410386077326841,\n",
       " 0.06926866334330475,\n",
       " 0.7947238736783931,\n",
       " 0.5653644582464165,\n",
       " 0.22945891988943007]"
      ]
     },
     "execution_count": 32,
     "metadata": {},
     "output_type": "execute_result"
    }
   ],
   "source": [
    "norm_arr=[]\n",
    "for i in distribution:\n",
    "    norm_arr.append(stats.norm.cdf(i))\n",
    "\n",
    "print(distribution)\n",
    "\n",
    "norm_arr"
   ]
  },
  {
   "cell_type": "code",
   "execution_count": 35,
   "metadata": {},
   "outputs": [
    {
     "data": {
      "text/plain": [
       "(array([1., 1., 0., 1., 0., 1., 0., 0., 1., 1.]),\n",
       " array([0.06926866, 0.15644566, 0.24362265, 0.33079965, 0.41797664,\n",
       "        0.50515364, 0.59233063, 0.67950762, 0.76668462, 0.85386161,\n",
       "        0.94103861]),\n",
       " <BarContainer object of 10 artists>)"
      ]
     },
     "execution_count": 35,
     "metadata": {},
     "output_type": "execute_result"
    },
    {
     "data": {
      "image/png": "[encoded data removed]",
      "text/plain": [
       "<Figure size 640x480 with 1 Axes>"
      ]
     },
     "metadata": {},
     "output_type": "display_data"
    }
   ],
   "source": [
    "plt.hist(norm_arr)\n"
   ]
  },
  {
   "cell_type": "code",
   "execution_count": 11,
   "metadata": {},
   "outputs": [
    {
     "name": "stdout",
     "output_type": "stream",
     "text": [
      "[[0. 0. 0. 0. 0. 0.]]\n"
     ]
    }
   ],
   "source": [
    "import sklearn.preprocessing as sp\n",
    "\n",
    "dataset =[ [46,69,32,60,52,41]]\n",
    "scaler = sp.MinMaxScaler()\n",
    "print(scaler.fit_transform(dataset))"
   ]
  },
  {
   "cell_type": "code",
   "execution_count": 12,
   "metadata": {},
   "outputs": [
    {
     "name": "stdout",
     "output_type": "stream",
     "text": [
      "0.0\n"
     ]
    }
   ],
   "source": [
    "mean=0\n",
    "for i in distribution:\n",
    "    mean += i\n",
    "mean /=n\n",
    "print(mean)"
   ]
  },
  {
   "cell_type": "code",
   "execution_count": 13,
   "metadata": {},
   "outputs": [
    {
     "data": {
      "text/plain": [
       "1.0"
      ]
     },
     "execution_count": 13,
     "metadata": {},
     "output_type": "execute_result"
    }
   ],
   "source": [
    "variance=0\n",
    "for i in distribution:\n",
    "    variance += (i-mean)**2\n",
    "variance /= n\n",
    "\n",
    "variance\n"
   ]
  },
  {
   "cell_type": "code",
   "execution_count": 14,
   "metadata": {},
   "outputs": [
    {
     "data": {
      "text/plain": [
       "1.0"
      ]
     },
     "execution_count": 14,
     "metadata": {},
     "output_type": "execute_result"
    }
   ],
   "source": [
    "sd =variance**(1/2)\n",
    "sd"
   ]
  }
 ],
 "metadata": {
  "kernelspec": {
   "display_name": "base",
   "language": "python",
   "name": "python3"
  },
  "language_info": {
   "codemirror_mode": {
    "name": "ipython",
    "version": 3
   },
   "file_extension": ".py",
   "mimetype": "text/x-python",
   "name": "python",
   "nbconvert_exporter": "python",
   "pygments_lexer": "ipython3",
   "version": "3.11.5"
  }
 },
 "nbformat": 4,
 "nbformat_minor": 2
}
